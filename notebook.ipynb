{
 "cells": [
  {
   "cell_type": "markdown",
   "id": "ab842af8",
   "metadata": {},
   "source": [
    "# Random Forest Model Training + Feature Importance"
   ]
  },
  {
   "cell_type": "markdown",
   "id": "f0b38490",
   "metadata": {},
   "source": [
    "This notebook implements the training and evaluation of a Random Forest machine learning module using a dataset publically available in a [GitHub repository](https://github.com/CPHSLab/Stress-Detection-in-Nurses/blob/main/combined_lagEDA.csv).\n",
    "\n",
    "The models are trained in the following ways:\n",
    "\n",
    "1. Using 70% of the data for the training and 30% for testing.\n",
    "    1. Using all the features of the dataset\n",
    "    2. Using only the 10 most importante features of the dataset (most influential in the final output of the model)\n",
    "2. Using 90% of the data for the training and 10% for testing.\n",
    "    1. Using all the features of the dataset\n",
    "    2. Using only the 10 most importante features of the dataset, gathered on step 1\n",
    "3. Using 50% of the data for the training and 50% for testing.\n",
    "    1. Using all the features of the dataset\n",
    "    2. Using only the 10 most importante features of the dataset, gathered on step 1\n",
    "4. Using 30% of the data for the training and 70% for testing.\n",
    "    1. Using all the features of the dataset\n",
    "    2. Using only the 10 most importante features of the dataset, gathered on step 1\n",
    "5. Using 10% of the data for the training and 90% for testing.\n",
    "    1. Using all the features of the dataset\n",
    "    2. Using only the 10 most importante features of the dataset, gathered on step 1\n",
    "\n",
    "The metrics used for evaluating the models are:\n",
    "- AUC = area below the ROC curve\n",
    "- Accuracy = proportion of examples classified correctly\n",
    "- F1 Score = harmonic average of recall and precision of the module\n",
    "- recall = proportion of true positives considering all positives of the dataset\n",
    "\n",
    "In all cases, the closest the metric is to 1, the better the model did in the evaluation."
   ]
  },
  {
   "cell_type": "code",
   "execution_count": 1,
   "id": "79125cca",
   "metadata": {},
   "outputs": [],
   "source": [
    "import numpy as np\n",
    "import pandas as pd\n",
    "import matplotlib.pyplot as plt\n",
    "plt.rcParams['figure.figsize'] = [10, 10]\n",
    "import shap\n",
    "\n",
    "import time\n",
    "\n",
    "from scipy.stats import kurtosis, skew\n",
    "from scipy.signal import find_peaks\n",
    "\n",
    "from sklearn.ensemble import RandomForestClassifier\n",
    "\n",
    "from sklearn.preprocessing import MinMaxScaler, OneHotEncoder\n",
    "from sklearn.model_selection import train_test_split, cross_val_score\n",
    "from sklearn.feature_selection import SelectFromModel\n",
    "from sklearn.naive_bayes import GaussianNB\n",
    "from sklearn.metrics import accuracy_score, f1_score, precision_score, recall_score, classification_report, roc_auc_score, roc_curve, auc\n",
    "from sklearn.inspection import (partial_dependence, PartialDependenceDisplay, permutation_importance)\n",
    "\n",
    "import random\n",
    "import ruptures as rpt"
   ]
  },
  {
   "cell_type": "markdown",
   "id": "b929e915",
   "metadata": {},
   "source": [
    "### Turning csv file into DataFrame object"
   ]
  },
  {
   "cell_type": "code",
   "execution_count": 2,
   "id": "a7e65ee2",
   "metadata": {},
   "outputs": [],
   "source": [
    "df_lag = pd.read_csv(\"./combinedlagEDA.csv\")\n",
    "train_set = df_lag.iloc[:,0:48]\n",
    "labels = df_lag.iloc[:,48:49]\n",
    "\n",
    "train, test, train_labels, test_labels = train_test_split(train_set, labels, test_size=0.3, random_state=30)"
   ]
  },
  {
   "cell_type": "markdown",
   "id": "c1540270",
   "metadata": {},
   "source": [
    "### Function to train model:"
   ]
  },
  {
   "cell_type": "code",
   "execution_count": 3,
   "id": "77ea52e0",
   "metadata": {},
   "outputs": [],
   "source": [
    "# dataframe_lag (pd.DataFrame) - dataset in DataFrame format\n",
    "# test_percentage (decimal) - percentage of data used for testing the module\n",
    "# return_model (boolean) - should the Random Forest model be returned\n",
    "# features_used (list of strings) - feature labels that should be used. If empty, all features are used\n",
    "def train_model(dataframe_lag, test_percentage, return_model=False, features_used=[]):\n",
    "    # TODO: add support for features_used\n",
    "    if len(features_used) != 0:\n",
    "        data = pd.concat([df_lag[feature] for feature in features_used], axis=1)\n",
    "        train_set = data.iloc[:,0:len(features_used)-1]\n",
    "        labels = data.iloc[:,len(features_used)-1:len(features_used)]\n",
    "    else: \n",
    "        train_set = dataframe_lag.iloc[:,0:48]\n",
    "        labels = dataframe_lag.iloc[:,48:49]\n",
    "        \n",
    "    # split data into train and test\n",
    "    train, test, train_labels, test_labels = train_test_split(train_set, labels, test_size=test_percentage)\n",
    "    \n",
    "    # create and train Random Forest classifier\n",
    "    start_time = time.time()\n",
    "    random_forest = RandomForestClassifier(n_estimators=100,max_depth=15)\n",
    "    random_forest.fit(train, train_labels.values.ravel())\n",
    "    y_pred_rf = random_forest.predict(test)\n",
    "    execution_time = time.time() - start_time\n",
    "    \n",
    "    # calculate metrics for evaluation \n",
    "    f1score   = f1_score        (test_labels, y_pred_rf, average = 'macro')\n",
    "    recall    = recall_score    (test_labels, y_pred_rf, average = 'macro')\n",
    "    accuracy  = accuracy_score  (test_labels, y_pred_rf)\n",
    "    AUC       = roc_auc_score   (test_labels.values.ravel(), random_forest.predict_proba(test), multi_class='ovr')\n",
    "    \n",
    "    if return_model:\n",
    "        return f1score, recall, accuracy, AUC, execution_time, random_forest\n",
    "    else:\n",
    "        return f1score, recall, accuracy, AUC, execution_time"
   ]
  },
  {
   "cell_type": "markdown",
   "id": "2f2b40be",
   "metadata": {},
   "source": [
    "1.A Training with 70% of data, testing with 30% of data"
   ]
  },
  {
   "cell_type": "code",
   "execution_count": 4,
   "id": "d6f75d04",
   "metadata": {},
   "outputs": [
    {
     "name": "stdout",
     "output_type": "stream",
     "text": [
      "auc = 0.9938577235052447\n",
      "acc = 0.9477771826459561\n",
      "f1 = 0.9350860962231639\n",
      "recall = 0.9259127448603636\n",
      "time of training = 2.9000024795532227 seconds\n"
     ]
    }
   ],
   "source": [
    "f1, recall, accuracy, AUC, execution_time, model = train_model(df_lag, 0.3, return_model=True)\n",
    "print('auc =', AUC)\n",
    "print('acc =', accuracy)\n",
    "print('f1 =', f1)\n",
    "print('recall =', recall) \n",
    "print('time of training =', execution_time, 'seconds')"
   ]
  },
  {
   "cell_type": "markdown",
   "id": "d84af4fd",
   "metadata": {},
   "source": [
    "Get top 10 features from model"
   ]
  },
  {
   "cell_type": "code",
   "execution_count": 5,
   "id": "8588d288",
   "metadata": {},
   "outputs": [
    {
     "name": "stdout",
     "output_type": "stream",
     "text": [
      "The top 10 features (10th to 1st) are: ['EDAR_Mean-2', 'EDAR_Mean-1', 'EDAR_Min', 'EDAR_Max', 'HRR_Min', 'TEMPR_Max', 'TEMPR_Min', 'HRR_Mean', 'HRR_Max', 'TEMPR_Mean']\n"
     ]
    }
   ],
   "source": [
    "importances = model.feature_importances_\n",
    "indices = np.argsort(importances)\n",
    "features = df_lag.columns\n",
    "top10 = [features[i] for i in indices[-10:]]\n",
    "print('The top 10 features (10th to 1st) are:', top10)\n",
    "top10.append('Stress') # last item should be the label (expected answer)"
   ]
  },
  {
   "cell_type": "markdown",
   "id": "a6ab0d1d",
   "metadata": {},
   "source": [
    "### Feature importance graph"
   ]
  },
  {
   "cell_type": "code",
   "execution_count": 6,
   "id": "b9b7bb07",
   "metadata": {
    "scrolled": true
   },
   "outputs": [
    {
     "data": {
      "image/png": "[encoded data removed]",
      "text/plain": [
       "<Figure size 720x720 with 1 Axes>"
      ]
     },
     "metadata": {
      "needs_background": "light"
     },
     "output_type": "display_data"
    }
   ],
   "source": [
    "importances = model.feature_importances_\n",
    "indices = np.argsort(importances)\n",
    "features = df_lag.columns\n",
    "plt.title('Feature Importances')\n",
    "plt.barh(range(len(indices)), importances[indices], color='g', align='center')\n",
    "plt.yticks(range(len(indices)), [features[i] for i in indices])\n",
    "plt.xlabel('Relative Importance')\n",
    "plt.show()"
   ]
  },
  {
   "cell_type": "markdown",
   "id": "42d8a1f4",
   "metadata": {},
   "source": [
    "1.B Training with 70% of data, testing with 30% of data using top 10 features"
   ]
  },
  {
   "cell_type": "code",
   "execution_count": 7,
   "id": "19864074",
   "metadata": {},
   "outputs": [
    {
     "name": "stdout",
     "output_type": "stream",
     "text": [
      "auc = 0.9859526020236703\n",
      "acc = 0.9156400642742367\n",
      "f1 = 0.9031521143507423\n",
      "recall = 0.896040193733843\n",
      "time of training = 1.5229039192199707 seconds\n"
     ]
    }
   ],
   "source": [
    "f1, recall, accuracy, AUC, execution_time, model = train_model(df_lag, 0.3, return_model=True, features_used=top10)\n",
    "print('auc =', AUC)\n",
    "print('acc =', accuracy)\n",
    "print('f1 =', f1)\n",
    "print('recall =', recall) \n",
    "print('time of training =', execution_time, 'seconds')"
   ]
  },
  {
   "cell_type": "markdown",
   "id": "8e0ab204",
   "metadata": {},
   "source": [
    "2.A Training with 90% of data, testing with 10% of data"
   ]
  },
  {
   "cell_type": "code",
   "execution_count": 8,
   "id": "c2591c1d",
   "metadata": {},
   "outputs": [
    {
     "name": "stdout",
     "output_type": "stream",
     "text": [
      "auc = 0.99541086373658\n",
      "acc = 0.9606425702811245\n",
      "f1 = 0.9512193886710185\n",
      "recall = 0.9440556477858676\n",
      "time of training = 3.491544485092163 seconds\n"
     ]
    }
   ],
   "source": [
    "f1, recall, accuracy, AUC, execution_time, model = train_model(df_lag, 0.1, return_model=True)\n",
    "print('auc =', AUC)\n",
    "print('acc =', accuracy)\n",
    "print('f1 =', f1)\n",
    "print('recall =', recall) \n",
    "print('time of training =', execution_time, 'seconds')"
   ]
  },
  {
   "cell_type": "markdown",
   "id": "cb4ee30e",
   "metadata": {},
   "source": [
    "2.B Training with 90% of data, testing with 10% of data using top 10 features"
   ]
  },
  {
   "cell_type": "code",
   "execution_count": 9,
   "id": "ca5a7860",
   "metadata": {},
   "outputs": [
    {
     "name": "stdout",
     "output_type": "stream",
     "text": [
      "auc = 0.990334356183916\n",
      "acc = 0.934136546184739\n",
      "f1 = 0.9221955184984871\n",
      "recall = 0.9143680822674342\n",
      "time of training = 1.7055330276489258 seconds\n"
     ]
    }
   ],
   "source": [
    "f1, recall, accuracy, AUC, execution_time, model = train_model(df_lag, 0.1, return_model=True, features_used=top10)\n",
    "print('auc =', AUC)\n",
    "print('acc =', accuracy)\n",
    "print('f1 =', f1)\n",
    "print('recall =', recall) \n",
    "print('time of training =', execution_time, 'seconds')"
   ]
  },
  {
   "cell_type": "markdown",
   "id": "cbb7e7de",
   "metadata": {},
   "source": [
    "3.A Training with 50% of data, testing with 50% of data"
   ]
  },
  {
   "cell_type": "code",
   "execution_count": 10,
   "id": "7632077b",
   "metadata": {},
   "outputs": [
    {
     "name": "stdout",
     "output_type": "stream",
     "text": [
      "auc = 0.9860623222003143\n",
      "acc = 0.9177245701430178\n",
      "f1 = 0.9002087076780283\n",
      "recall = 0.8884830053887431\n",
      "time of training = 1.9462223052978516 seconds\n"
     ]
    }
   ],
   "source": [
    "f1, recall, accuracy, AUC, execution_time, model = train_model(df_lag, 0.5, return_model=True)\n",
    "print('auc =', AUC)\n",
    "print('acc =', accuracy)\n",
    "print('f1 =', f1)\n",
    "print('recall =', recall) \n",
    "print('time of training =', execution_time, 'seconds')"
   ]
  },
  {
   "cell_type": "markdown",
   "id": "81076bd9",
   "metadata": {},
   "source": [
    "3.B Training with 50% of data, testing with 50% of data using top 10 features"
   ]
  },
  {
   "cell_type": "code",
   "execution_count": 11,
   "id": "d620704d",
   "metadata": {},
   "outputs": [
    {
     "name": "stdout",
     "output_type": "stream",
     "text": [
      "auc = 0.9790944441416868\n",
      "acc = 0.901655150249076\n",
      "f1 = 0.8809694044608808\n",
      "recall = 0.8706952319722032\n",
      "time of training = 1.039067029953003 seconds\n"
     ]
    }
   ],
   "source": [
    "f1, recall, accuracy, AUC, execution_time, model = train_model(df_lag, 0.5, return_model=True, features_used=top10)\n",
    "print('auc =', AUC)\n",
    "print('acc =', accuracy)\n",
    "print('f1 =', f1)\n",
    "print('recall =', recall) \n",
    "print('time of training =', execution_time, 'seconds')"
   ]
  },
  {
   "cell_type": "markdown",
   "id": "5283bdc2",
   "metadata": {},
   "source": [
    "4.A Training with 30% of data, testing with 70% of data"
   ]
  },
  {
   "cell_type": "code",
   "execution_count": 12,
   "id": "d6ac456f",
   "metadata": {},
   "outputs": [
    {
     "name": "stdout",
     "output_type": "stream",
     "text": [
      "auc = 0.969013460810856\n",
      "acc = 0.866505968778696\n",
      "f1 = 0.82924751027003\n",
      "recall = 0.8117338591707545\n",
      "time of training = 1.1902649402618408 seconds\n"
     ]
    }
   ],
   "source": [
    "f1, recall, accuracy, AUC, execution_time, model = train_model(df_lag, 0.7, return_model=True)\n",
    "print('auc =', AUC)\n",
    "print('acc =', accuracy)\n",
    "print('f1 =', f1)\n",
    "print('recall =', recall) \n",
    "print('time of training =', execution_time, 'seconds')"
   ]
  },
  {
   "cell_type": "markdown",
   "id": "4a27b793",
   "metadata": {},
   "source": [
    "4.B Training with 30% of data, testing wih 70% of data using top 10 features"
   ]
  },
  {
   "cell_type": "code",
   "execution_count": 13,
   "id": "f94558d3",
   "metadata": {},
   "outputs": [
    {
     "name": "stdout",
     "output_type": "stream",
     "text": [
      "auc = 0.9643358488815598\n",
      "acc = 0.8736225895316805\n",
      "f1 = 0.8476962946814061\n",
      "recall = 0.8350245359057423\n",
      "time of training = 0.683086633682251 seconds\n"
     ]
    }
   ],
   "source": [
    "f1, recall, accuracy, AUC, execution_time, model = train_model(df_lag, 0.7, return_model=True, features_used=top10)\n",
    "print('auc =', AUC)\n",
    "print('acc =', accuracy)\n",
    "print('f1 =', f1)\n",
    "print('recall =', recall) \n",
    "print('time of training =', execution_time, 'seconds')"
   ]
  },
  {
   "cell_type": "markdown",
   "id": "851eec7b",
   "metadata": {},
   "source": [
    "5.A Training with 10% of data, testing with 90% of data"
   ]
  },
  {
   "cell_type": "code",
   "execution_count": 14,
   "id": "79049356",
   "metadata": {},
   "outputs": [
    {
     "name": "stdout",
     "output_type": "stream",
     "text": [
      "auc = 0.9059874401463678\n",
      "acc = 0.7779662530131238\n",
      "f1 = 0.7227560203410585\n",
      "recall = 0.7092442588498914\n",
      "time of training = 0.5451159477233887 seconds\n"
     ]
    }
   ],
   "source": [
    "f1, recall, accuracy, AUC, execution_time, model = train_model(df_lag, 0.9, return_model=True)\n",
    "print('auc =', AUC)\n",
    "print('acc =', accuracy)\n",
    "print('f1 =', f1)\n",
    "print('recall =', recall) \n",
    "print('time of training =', execution_time, 'seconds')"
   ]
  },
  {
   "cell_type": "markdown",
   "id": "7b9915dd",
   "metadata": {},
   "source": [
    "5.B Training with 10% of data, testing wih 90% of data using top 10 features"
   ]
  },
  {
   "cell_type": "code",
   "execution_count": 15,
   "id": "fb1600d5",
   "metadata": {},
   "outputs": [
    {
     "name": "stdout",
     "output_type": "stream",
     "text": [
      "auc = 0.9102830305622235\n",
      "acc = 0.7942148022497991\n",
      "f1 = 0.7513498109847664\n",
      "recall = 0.7442097265117787\n",
      "time of training = 0.3550839424133301 seconds\n"
     ]
    }
   ],
   "source": [
    "f1, recall, accuracy, AUC, execution_time, model = train_model(df_lag, 0.9, return_model=True, features_used=top10)\n",
    "print('auc =', AUC)\n",
    "print('acc =', accuracy)\n",
    "print('f1 =', f1)\n",
    "print('recall =', recall) \n",
    "print('time of training =', execution_time, 'seconds')"
   ]
  }
 ],
 "metadata": {
  "kernelspec": {
   "display_name": "Python 3",
   "language": "python",
   "name": "python3"
  },
  "language_info": {
   "codemirror_mode": {
    "name": "ipython",
    "version": 3
   },
   "file_extension": ".py",
   "mimetype": "text/x-python",
   "name": "python",
   "nbconvert_exporter": "python",
   "pygments_lexer": "ipython3",
   "version": "3.8.1"
  }
 },
 "nbformat": 4,
 "nbformat_minor": 5
}
